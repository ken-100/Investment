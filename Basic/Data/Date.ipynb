{
 "cells": [
  {
   "cell_type": "code",
   "execution_count": 1,
   "id": "3cbbb2f1-3963-49ac-9d1a-978136273836",
   "metadata": {},
   "outputs": [],
   "source": [
    "import workdays\n",
    "import datetime\n",
    "import calendar\n",
    "from datetime import datetime, timedelta, date\n",
    "from dateutil.relativedelta import relativedelta"
   ]
  },
  {
   "cell_type": "code",
   "execution_count": 2,
   "id": "ed8c2a68-92f5-4cb0-a485-c0d14238bfc5",
   "metadata": {},
   "outputs": [
    {
     "name": "stdout",
     "output_type": "stream",
     "text": [
      "Input date : 2022-09-01 00:00:00\n",
      "Input date : 2022-09-01\n"
     ]
    }
   ],
   "source": [
    "# Input date\n",
    "d = datetime(2022, 9, 1) \n",
    "print(\"Input date :\",d)\n",
    "\n",
    "d = date(2022, 9, 1) \n",
    "print(\"Input date :\",d)"
   ]
  },
  {
   "cell_type": "code",
   "execution_count": 3,
   "id": "ae35e1be-90ae-42a1-ac5f-e5dc67cd64da",
   "metadata": {},
   "outputs": [
    {
     "name": "stdout",
     "output_type": "stream",
     "text": [
      "Today : 2023-07-04\n",
      "Today : 2023-07-04 17:20:29.546253\n"
     ]
    }
   ],
   "source": [
    "# Today\n",
    "d = date.today()\n",
    "print(\"Today :\",d)\n",
    "\n",
    "d = datetime.today()\n",
    "print(\"Today :\",d)"
   ]
  },
  {
   "cell_type": "code",
   "execution_count": 4,
   "id": "0b99b15c-8cdc-4fb5-adc5-5d9bf1e123ea",
   "metadata": {},
   "outputs": [
    {
     "name": "stdout",
     "output_type": "stream",
     "text": [
      "Day+5 : 2023-07-09\n",
      "Day+5 : 2023-07-09\n",
      "2023-07-04\n",
      "2023-10-04\n",
      "2026-07-04\n"
     ]
    }
   ],
   "source": [
    "#timdedelta, relativedelta\n",
    "tmp=5\n",
    "d = date.today() + timedelta(days=tmp)\n",
    "print(\"Day+\"+str(tmp)+\" :\",d)\n",
    "\n",
    "tmp=5\n",
    "d = date.today() + relativedelta(days=tmp)\n",
    "print(\"Day+\"+str(tmp)+\" :\",d)\n",
    "\n",
    "\n",
    "d = date.today()\n",
    "print(d)\n",
    "\n",
    "d = date.today() + relativedelta(months=3)\n",
    "print(d)\n",
    "\n",
    "d = date.today()+ relativedelta(years=3)\n",
    "print(d)"
   ]
  },
  {
   "cell_type": "code",
   "execution_count": 5,
   "id": "4605bf16-42f0-407f-8338-c2d2d131cc6e",
   "metadata": {},
   "outputs": [
    {
     "name": "stdout",
     "output_type": "stream",
     "text": [
      "Workday+5 : 2023-07-11\n"
     ]
    }
   ],
   "source": [
    "# Workday\n",
    "tmp = 5\n",
    "d = workdays.workday(date.today(), days=tmp)  \n",
    "print(\"Workday+\"+str(tmp)+\" :\",d)"
   ]
  },
  {
   "cell_type": "code",
   "execution_count": 6,
   "id": "567c351d-8721-40b5-8796-e1f0f2a68320",
   "metadata": {},
   "outputs": [
    {
     "name": "stdout",
     "output_type": "stream",
     "text": [
      "2007-03-30\n",
      "2007-03-30\n"
     ]
    }
   ],
   "source": [
    "#Sat, Sun -> Weekday\n",
    "d = date(2007, 3, 31)\n",
    "d = workdays.workday(d+timedelta(days=1), days=-1)\n",
    "print(d) #timedelta -> only days\n",
    "\n",
    "d = date(2007, 3, 31)\n",
    "d = workdays.workday(d+relativedelta(days=1), days=-1)\n",
    "print(d)"
   ]
  },
  {
   "cell_type": "code",
   "execution_count": 7,
   "id": "26298a2a-a438-4f18-ba14-10e541b4dc37",
   "metadata": {},
   "outputs": [
    {
     "name": "stdout",
     "output_type": "stream",
     "text": [
      "Gap : 92 days, 0:00:00\n",
      "Gap_day : 92\n",
      "Gap_second : 0\n"
     ]
    }
   ],
   "source": [
    "# Gap\n",
    "d = date.today() + relativedelta(months=3) - date.today()\n",
    "print(\"Gap :\",d)\n",
    "print(\"Gap_day :\",d.days)\n",
    "print(\"Gap_second :\",d.seconds)"
   ]
  },
  {
   "cell_type": "code",
   "execution_count": 8,
   "id": "157fd149-3f81-408e-8fbb-51f8b1d62936",
   "metadata": {},
   "outputs": [
    {
     "name": "stdout",
     "output_type": "stream",
     "text": [
      "Foramt\n",
      "2023-07-11\n",
      "20230711\n",
      "230711\n",
      "202307\n",
      "2023/07/11\n",
      "2023/07\n"
     ]
    }
   ],
   "source": [
    "print(\"Foramt\")\n",
    "tmp = 5\n",
    "d = workdays.workday(date.today(), days=tmp)\n",
    "print(d)\n",
    "print(d.strftime(\"%Y%m%d\"))\n",
    "print(d.strftime(\"%y%m%d\"))\n",
    "print(d.strftime(\"%Y%m\"))\n",
    "print(d.strftime(\"%Y/%m/%d\"))\n",
    "print(d.strftime(\"%Y/%m\"))"
   ]
  },
  {
   "cell_type": "code",
   "execution_count": 9,
   "id": "8d10b00d-585a-4739-9a91-e8f34dd5b0d6",
   "metadata": {},
   "outputs": [
    {
     "name": "stdout",
     "output_type": "stream",
     "text": [
      "First of month : 2007-03-01\n",
      "First of month : 2007-03-01\n",
      "First of month : 2005-04-01\n",
      "First of month : 2005-04-01\n"
     ]
    }
   ],
   "source": [
    "# First of month\n",
    "d = date(2007, 3, 25)\n",
    "d = d.replace(day=1)\n",
    "print(\"First of month :\",d)\n",
    "\n",
    "d = date(2007, 3, 25)\n",
    "d = date(d.year, d.month, 1)\n",
    "print(\"First of month :\",d)\n",
    "\n",
    "d = date(2007, 3, 25)\n",
    "d = date(d.year, d.month+1,1) + relativedelta(months=-24)\n",
    "print(\"First of month :\",d)\n",
    "\n",
    "d = date(2007, 3, 25)\n",
    "d = date(d.year, d.month+1,1) + relativedelta(years=-2)\n",
    "print(\"First of month :\",d)"
   ]
  },
  {
   "cell_type": "code",
   "execution_count": 10,
   "id": "1575a2c4-2272-45b1-af15-2bb265cd84b4",
   "metadata": {},
   "outputs": [
    {
     "name": "stdout",
     "output_type": "stream",
     "text": [
      "End of the month : 2007-03-31\n",
      "End of the month : 2007-03-31\n",
      "End of the month : 2007-02-28\n"
     ]
    }
   ],
   "source": [
    "# End of month\n",
    "d = date(2007, 3, 25)\n",
    "d = d.replace(day=calendar.monthrange(d.year, d.month)[1])\n",
    "print(\"End of the month :\",d)\n",
    "\n",
    "d = date(2007, 3, 25)\n",
    "d = date(d.year, d.month+1,1) + timedelta(days=-1)\n",
    "print(\"End of the month :\",d)\n",
    "\n",
    "d = date(2007, 3, 25)\n",
    "d = date(d.year, d.month+0,1) + timedelta(days=-1)\n",
    "print(\"End of the month :\",d)"
   ]
  },
  {
   "cell_type": "code",
   "execution_count": 11,
   "id": "de44aaa8-a650-46b7-98fa-eaa6b8316998",
   "metadata": {},
   "outputs": [
    {
     "name": "stdout",
     "output_type": "stream",
     "text": [
      "Now : 2023-07-04 17:20:30.432353\n",
      "year : 2023\n",
      "month : 7\n",
      "day : 4\n",
      "hour : 17\n",
      "minute : 20\n",
      "second : 30\n",
      "microsecond : 432353\n"
     ]
    }
   ],
   "source": [
    "# Now\n",
    "d =datetime.now()\n",
    "print(\"Now :\",d)\n",
    "print(\"year :\",d.year)\n",
    "print(\"month :\",d.month)\n",
    "print(\"day :\",d.day)\n",
    "print(\"hour :\",d.hour)\n",
    "print(\"minute :\",d.minute)\n",
    "print(\"second :\",d.second)\n",
    "print(\"microsecond :\",d.microsecond)"
   ]
  },
  {
   "cell_type": "code",
   "execution_count": 12,
   "id": "74d06241-d2ef-4fac-8abe-4fb5fe7ec1f8",
   "metadata": {},
   "outputs": [
    {
     "name": "stdout",
     "output_type": "stream",
     "text": [
      "Now -> Today : 2023-07-04\n",
      "Now -> Today : 2023-07-04 00:00:00\n"
     ]
    }
   ],
   "source": [
    "# Now -> Today\n",
    "d1 = date(d.year, d.month, d.day)\n",
    "d2 = d.replace(second=0).replace(hour=0).replace(minute=0).replace(second=0).replace(microsecond=0)\n",
    "print(\"Now -> Today :\",d1)\n",
    "print(\"Now -> Today :\",d2)"
   ]
  },
  {
   "cell_type": "code",
   "execution_count": 13,
   "id": "5194630b-77f0-40f8-bc38-b276d44c6fa2",
   "metadata": {},
   "outputs": [
    {
     "name": "stdout",
     "output_type": "stream",
     "text": [
      "String : 20210501\n",
      "datetime : 2021-05-01 00:00:00\n"
     ]
    }
   ],
   "source": [
    "d1 = '20210501'\n",
    "d2 = datetime.strptime(d1, '%Y%m%d')\n",
    "print(\"String :\",d1)\n",
    "print(\"datetime :\",d2)"
   ]
  },
  {
   "cell_type": "code",
   "execution_count": 14,
   "id": "0746e999-2f81-4e71-ace0-682c9d6f42aa",
   "metadata": {},
   "outputs": [
    {
     "name": "stdout",
     "output_type": "stream",
     "text": [
      "Excel figure : 44827\n",
      "datetime : 2022-09-23 00:00:00\n"
     ]
    }
   ],
   "source": [
    "# Excel figure -> date\n",
    "tmp = 44827\n",
    "d = datetime(1899, 12, 30) + timedelta(days=tmp)\n",
    "print(\"Excel figure :\",tmp)\n",
    "print(\"datetime :\",d)"
   ]
  },
  {
   "cell_type": "code",
   "execution_count": 15,
   "id": "da590350-d73f-4ad3-a462-5ace01f7ded1",
   "metadata": {},
   "outputs": [
    {
     "name": "stdout",
     "output_type": "stream",
     "text": [
      "1\n",
      "2\n",
      "3\n",
      "4\n",
      "5\n",
      "6\n",
      "0\n"
     ]
    }
   ],
   "source": [
    "d.weekday()\n",
    "# 0 Monday\n",
    "# 1 Tuesday\n",
    "# 2 Wednesday\n",
    "# 3 Thursday\n",
    "# 4 Friday\n",
    "# 5 Saturday\n",
    "# 6 Sunday\n",
    "\n",
    "for i in range(7):\n",
    "    d = date.today() + timedelta(days=i)\n",
    "    print(d.weekday())"
   ]
  }
 ],
 "metadata": {
  "kernelspec": {
   "display_name": "Python 3",
   "language": "python",
   "name": "python3"
  },
  "language_info": {
   "codemirror_mode": {
    "name": "ipython",
    "version": 3
   },
   "file_extension": ".py",
   "mimetype": "text/x-python",
   "name": "python",
   "nbconvert_exporter": "python",
   "pygments_lexer": "ipython3",
   "version": "3.8.8"
  }
 },
 "nbformat": 4,
 "nbformat_minor": 5
}
