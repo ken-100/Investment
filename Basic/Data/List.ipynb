{
 "cells": [
  {
   "cell_type": "code",
   "execution_count": 1,
   "id": "71cf38c8-7c73-48c6-aa30-d6a969abe793",
   "metadata": {
    "tags": []
   },
   "outputs": [
    {
     "data": {
      "text/plain": [
       "[0, 1, 2, 3, 4]"
      ]
     },
     "execution_count": 1,
     "metadata": {},
     "output_type": "execute_result"
    }
   ],
   "source": [
    "list(range(5))"
   ]
  },
  {
   "cell_type": "code",
   "execution_count": 2,
   "id": "19b6bfb8-7e1a-4e64-9f92-fd55e4b09844",
   "metadata": {
    "tags": []
   },
   "outputs": [
    {
     "data": {
      "text/plain": [
       "[2, 3, 4]"
      ]
     },
     "execution_count": 2,
     "metadata": {},
     "output_type": "execute_result"
    }
   ],
   "source": [
    "list(range(2,5))"
   ]
  },
  {
   "cell_type": "code",
   "execution_count": 3,
   "id": "bb264279-6b9a-45c5-80ed-7b7f0409e9ab",
   "metadata": {
    "tags": []
   },
   "outputs": [
    {
     "data": {
      "text/plain": [
       "[0, 2, 4]"
      ]
     },
     "execution_count": 3,
     "metadata": {},
     "output_type": "execute_result"
    }
   ],
   "source": [
    "list(range(0,5,2))"
   ]
  },
  {
   "cell_type": "code",
   "execution_count": 4,
   "id": "8ffb2dc5-3995-4929-a29d-49dd1e925cdb",
   "metadata": {
    "tags": []
   },
   "outputs": [
    {
     "data": {
      "text/plain": [
       "[0, 2, 4, 0, 2, 4]"
      ]
     },
     "execution_count": 4,
     "metadata": {},
     "output_type": "execute_result"
    }
   ],
   "source": [
    "list(range(0,5,2)) * 2"
   ]
  },
  {
   "cell_type": "code",
   "execution_count": 5,
   "id": "a42c2199-8248-4f6d-bc60-709fc1195bdb",
   "metadata": {
    "tags": []
   },
   "outputs": [
    {
     "data": {
      "text/plain": [
       "[0, 0, 2, 2, 4, 4]"
      ]
     },
     "execution_count": 5,
     "metadata": {},
     "output_type": "execute_result"
    }
   ],
   "source": [
    "tmp = list(range(0,5,2))\n",
    "[x for x in tmp for y in range(2)]"
   ]
  },
  {
   "cell_type": "code",
   "execution_count": 6,
   "id": "4174d1b3-81f4-4ed7-987d-e35cf23565c2",
   "metadata": {
    "tags": []
   },
   "outputs": [
    {
     "data": {
      "text/plain": [
       "[5, 4, 3, 2, 1]"
      ]
     },
     "execution_count": 6,
     "metadata": {},
     "output_type": "execute_result"
    }
   ],
   "source": [
    "list(range(5,0,-1))"
   ]
  },
  {
   "cell_type": "code",
   "execution_count": 7,
   "id": "7629dce0-9ed0-4cd9-9059-12ee8205a6cf",
   "metadata": {
    "tags": []
   },
   "outputs": [
    {
     "data": {
      "text/plain": [
       "[0.0, 0.1, 0.2, 0.30000000000000004, 0.4]"
      ]
     },
     "execution_count": 7,
     "metadata": {},
     "output_type": "execute_result"
    }
   ],
   "source": [
    "[i*0.1 for i in range(5)]"
   ]
  },
  {
   "cell_type": "code",
   "execution_count": 8,
   "id": "acb81104-6fdc-4540-a22b-9fd8770dd344",
   "metadata": {
    "tags": []
   },
   "outputs": [
    {
     "data": {
      "text/plain": [
       "['ac', 'ad', 'bc', 'bd']"
      ]
     },
     "execution_count": 8,
     "metadata": {},
     "output_type": "execute_result"
    }
   ],
   "source": [
    "A = [\"a\",\"b\"]\n",
    "B = [\"c\",\"d\"]\n",
    "tmp = [x+y for x in A for y in B]\n",
    "tmp"
   ]
  },
  {
   "cell_type": "code",
   "execution_count": 9,
   "id": "1482bfe1-15f2-459d-8ce4-e0c54ad8fc8e",
   "metadata": {
    "tags": []
   },
   "outputs": [
    {
     "data": {
      "text/plain": [
       "array([[0., 0., 0., 0.],\n",
       "       [0., 0., 0., 0.],\n",
       "       [0., 0., 0., 0.]])"
      ]
     },
     "execution_count": 9,
     "metadata": {},
     "output_type": "execute_result"
    }
   ],
   "source": [
    "import numpy as np\n",
    "tmp = np.zeros((3,4))\n",
    "tmp"
   ]
  },
  {
   "cell_type": "code",
   "execution_count": 10,
   "id": "e99d1a42-c7cd-4684-9160-324819eba689",
   "metadata": {
    "tags": []
   },
   "outputs": [
    {
     "data": {
      "text/plain": [
       "array([[6, 2, 3],\n",
       "       [4, 5, 3]])"
      ]
     },
     "metadata": {},
     "output_type": "display_data"
    },
    {
     "data": {
      "text/plain": [
       "array([6, 2, 3, 4, 5, 3])"
      ]
     },
     "metadata": {},
     "output_type": "display_data"
    },
    {
     "data": {
      "text/plain": [
       "array([6, 2, 3, 4, 5, 3])"
      ]
     },
     "metadata": {},
     "output_type": "display_data"
    },
    {
     "data": {
      "text/plain": [
       "array([6, 2, 3, 4, 5, 3])"
      ]
     },
     "metadata": {},
     "output_type": "display_data"
    },
    {
     "data": {
      "text/plain": [
       "[6, 2, 3, 4, 5, 3]"
      ]
     },
     "metadata": {},
     "output_type": "display_data"
    }
   ],
   "source": [
    "x =np.array([[6, 2, 3],[4, 5, 3]])\n",
    "display(x)\n",
    "display(x.ravel())\n",
    "display(np.ravel(x))\n",
    "display(x.flatten())\n",
    "display(x.ravel().tolist())"
   ]
  },
  {
   "cell_type": "code",
   "execution_count": 11,
   "id": "26b95893-64ae-4a22-aa1f-aef6735c7a26",
   "metadata": {
    "tags": []
   },
   "outputs": [
    {
     "name": "stdout",
     "output_type": "stream",
     "text": [
      "[2 3 4 5 6]\n"
     ]
    }
   ],
   "source": [
    "# Deleting duplicates\n",
    "# With sorting\n",
    "tmp = x.ravel().tolist()\n",
    "tmp = np.unique(tmp)\n",
    "print(tmp)"
   ]
  },
  {
   "cell_type": "code",
   "execution_count": 12,
   "id": "0397b09b-b502-418f-b574-d1d47b048926",
   "metadata": {
    "tags": []
   },
   "outputs": [
    {
     "name": "stdout",
     "output_type": "stream",
     "text": [
      "OrderedDict([(6, None), (2, None), (3, None), (4, None), (5, None)])\n"
     ]
    },
    {
     "data": {
      "text/plain": [
       "[6, 2, 3, 4, 5]"
      ]
     },
     "execution_count": 12,
     "metadata": {},
     "output_type": "execute_result"
    }
   ],
   "source": [
    "# deleting duplicates\n",
    "# No sorting\n",
    "from collections import OrderedDict\n",
    "tmp = x.ravel().tolist()\n",
    "tmp = OrderedDict.fromkeys(tmp)\n",
    "print(tmp)\n",
    "list(tmp)"
   ]
  },
  {
   "cell_type": "code",
   "execution_count": 13,
   "id": "ba27bd1b-9c31-4b65-b94e-c90f19ea8b3f",
   "metadata": {
    "tags": []
   },
   "outputs": [
    {
     "name": "stdout",
     "output_type": "stream",
     "text": [
      "4\n",
      "4\n",
      "4\n",
      "4\n"
     ]
    }
   ],
   "source": [
    "arr = [23, 6, 22, 3, 38, 15]\n",
    "# Number of matching elements\n",
    "n = sum(x>10 for x in arr)\n",
    "print(n)\n",
    "n = sum(1 for x in arr if x>10)\n",
    "print(n)\n",
    "n = sum([1 for x in arr if x>10])\n",
    "print(n)\n",
    "n = len([1 for x in arr if x>10])\n",
    "print(n)"
   ]
  }
 ],
 "metadata": {
  "kernelspec": {
   "display_name": "Python 3 (ipykernel)",
   "language": "python",
   "name": "python3"
  },
  "language_info": {
   "codemirror_mode": {
    "name": "ipython",
    "version": 3
   },
   "file_extension": ".py",
   "mimetype": "text/x-python",
   "name": "python",
   "nbconvert_exporter": "python",
   "pygments_lexer": "ipython3",
   "version": "3.11.4"
  }
 },
 "nbformat": 4,
 "nbformat_minor": 5
}
