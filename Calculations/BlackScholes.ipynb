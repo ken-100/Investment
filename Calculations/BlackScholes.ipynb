{
 "cells": [
  {
   "cell_type": "code",
   "execution_count": 1,
   "id": "220e817e-480e-4e6a-a9fe-0ce6d985f8bd",
   "metadata": {
    "tags": []
   },
   "outputs": [],
   "source": [
    "import numpy as np\n",
    "from scipy.stats import norm\n",
    "\n",
    "# Calculate the Black-Scholes price for a European call option.\n",
    "def black_scholes_call(S, K, T, r, sigma):\n",
    "   \n",
    "    d1 = (np.log(S/K) + (r + 0.5 * sigma**2) * T) / (sigma * np.sqrt(T))\n",
    "    d2 = d1 - sigma * np.sqrt(T)\n",
    "    call_price = S * norm.cdf(d1) - K * np.exp(-r * T) * norm.cdf(d2)   \n",
    "    return call_price\n",
    "\n",
    "# Calculate the Black-Scholes price for a European put option.\n",
    "def black_scholes_put(S, K, T, r, sigma):\n",
    "    \n",
    "    d1 = (np.log(S/K) + (r + 0.5 * sigma**2) * T) / (sigma * np.sqrt(T))\n",
    "    d2 = d1 - sigma * np.sqrt(T)\n",
    "    put_price = K * np.exp(-r * T) * norm.cdf(-d2) - S * norm.cdf(-d1)\n",
    "    return put_price"
   ]
  },
  {
   "cell_type": "code",
   "execution_count": 2,
   "id": "3aa7286f-ec6a-41b2-aa6c-a6e0482da10c",
   "metadata": {
    "tags": []
   },
   "outputs": [
    {
     "name": "stdout",
     "output_type": "stream",
     "text": [
      "Call Price: 17.001882070489074\n",
      "Put Price: 0.9475841474098026\n"
     ]
    }
   ],
   "source": [
    "S = 100\n",
    "K = 100\n",
    "T = 5\n",
    "r = 0.07*0.5\n",
    "sigma = 0.07\n",
    "# - S: Current stock price\n",
    "# - K: Option strike price\n",
    "# - T: Time until option expiration (in years)\n",
    "# - r: Risk-free interest rate (annual)\n",
    "# - sigma: Volatility of the stock (annual)\n",
    "\n",
    "call_price = black_scholes_call(S, K, T, r, sigma)\n",
    "put_price = black_scholes_put(S, K, T, r, sigma)\n",
    "\n",
    "print(f\"Call Price: {call_price}\")\n",
    "print(f\"Put Price: {put_price}\")"
   ]
  }
 ],
 "metadata": {
  "kernelspec": {
   "display_name": "Python 3 (ipykernel)",
   "language": "python",
   "name": "python3"
  },
  "language_info": {
   "codemirror_mode": {
    "name": "ipython",
    "version": 3
   },
   "file_extension": ".py",
   "mimetype": "text/x-python",
   "name": "python",
   "nbconvert_exporter": "python",
   "pygments_lexer": "ipython3",
   "version": "3.11.4"
  }
 },
 "nbformat": 4,
 "nbformat_minor": 5
}
