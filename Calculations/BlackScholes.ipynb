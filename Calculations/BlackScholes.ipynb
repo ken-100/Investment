{
 "cells": [
  {
   "cell_type": "code",
   "execution_count": 27,
   "id": "c4e85179-2bf5-4d5e-92f3-630c0c14e83d",
   "metadata": {
    "tags": []
   },
   "outputs": [],
   "source": [
    "import numpy as np\n",
    "from scipy.stats import norm\n",
    "# Calculate the Black-Scholes price for a European call option.\n",
    "def BS_C(S, K, T, r, sigma):\n",
    "    d1 = (np.log(S/K) + (r + 0.5 * sigma**2) * T) / (sigma * np.sqrt(T))\n",
    "    d2 = d1 - sigma * np.sqrt(T)\n",
    "    call_price = S * norm.cdf(d1) - K * np.exp(-r * T) * norm.cdf(d2)   \n",
    "    return call_price\n",
    "\n",
    "# Calculate the Black-Scholes price for a European put option.\n",
    "def BS_P(S, K, T, r, sigma):\n",
    "    d1 = (np.log(S/K) + (r + 0.5 * sigma**2) * T) / (sigma * np.sqrt(T))\n",
    "    d2 = d1 - sigma * np.sqrt(T)\n",
    "    put_price = K * np.exp(-r * T) * norm.cdf(-d2) - S * norm.cdf(-d1)\n",
    "    return put_price"
   ]
  },
  {
   "cell_type": "code",
   "execution_count": 25,
   "id": "6f686fd2-1f2c-499a-8580-529973a648df",
   "metadata": {
    "tags": []
   },
   "outputs": [
    {
     "name": "stdout",
     "output_type": "stream",
     "text": [
      "Call Price: 17.001882070489074\n",
      "Put Price: 0.9475841474098026\n"
     ]
    }
   ],
   "source": [
    "S = 100\n",
    "K = 100\n",
    "T = 5\n",
    "r = 0.07*0.5\n",
    "sigma = 0.07\n",
    "# - S: Current stock price\n",
    "# - K: Option strike price\n",
    "# - T: Time until option expiration (in years)\n",
    "# - r: Risk-free interest rate (annual)\n",
    "# - sigma: Volatility of the stock (annual)\n",
    "\n",
    "CP = BS_C(S, K, T, r, sigma) #Call Price\n",
    "PP = BS_P(S, K, T, r, sigma)\n",
    "\n",
    "print(f\"Call Price: {CP}\")\n",
    "print(f\"Put Price: {PP}\")"
   ]
  },
  {
   "cell_type": "code",
   "execution_count": 26,
   "id": "ba20f063-1b64-476e-9cfb-3659a23e5228",
   "metadata": {
    "tags": []
   },
   "outputs": [
    {
     "name": "stdout",
     "output_type": "stream",
     "text": [
      "Call Price with Dividend: 17.001882070489074\n",
      "Put Price with Dividend: 0.9475841474098026\n"
     ]
    }
   ],
   "source": [
    "def BS_C_div(S, K, T, r, sigma, D):\n",
    "    S_adj = S - D  # Adjusted stock price after accounting for dividend\n",
    "    d1 = (np.log(S_adj/K) + (r + 0.5 * sigma**2) * T) / (sigma * np.sqrt(T))\n",
    "    d2 = d1 - sigma * np.sqrt(T)\n",
    "    call_price = S_adj * norm.cdf(d1) - K * np.exp(-r * T) * norm.cdf(d2)\n",
    "    return call_price\n",
    "\n",
    "def BS_P_div(S, K, T, r, sigma, D):\n",
    "    S_adj = S - D  # Adjusted stock price after accounting for dividend\n",
    "    d1 = (np.log(S_adj/K) + (r + 0.5 * sigma**2) * T) / (sigma * np.sqrt(T))\n",
    "    d2 = d1 - sigma * np.sqrt(T)\n",
    "    put_price = K * np.exp(-r * T) * norm.cdf(-d2) - S_adj * norm.cdf(-d1)\n",
    "    return put_price\n",
    "\n",
    "S = 100\n",
    "K = 100\n",
    "T = 5\n",
    "r = 0.07*0.5\n",
    "sigma = 0.07\n",
    "D = 0\n",
    "\n",
    "CP = BS_C_div(S, K, T, r, sigma, D)\n",
    "PP = BS_P_div(S, K, T, r, sigma, D)\n",
    "\n",
    "print(f\"Call Price with Dividend: {CP}\")\n",
    "print(f\"Put Price with Dividend: {PP}\")\n"
   ]
  }
 ],
 "metadata": {
  "kernelspec": {
   "display_name": "Python 3 (ipykernel)",
   "language": "python",
   "name": "python3"
  },
  "language_info": {
   "codemirror_mode": {
    "name": "ipython",
    "version": 3
   },
   "file_extension": ".py",
   "mimetype": "text/x-python",
   "name": "python",
   "nbconvert_exporter": "python",
   "pygments_lexer": "ipython3",
   "version": "3.11.4"
  }
 },
 "nbformat": 4,
 "nbformat_minor": 5
}
