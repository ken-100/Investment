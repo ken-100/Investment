{
 "cells": [
  {
   "cell_type": "code",
   "execution_count": 1,
   "metadata": {},
   "outputs": [],
   "source": [
    "import pandas as pd\n",
    "import numpy as np\n",
    "import matplotlib.pyplot as plt\n",
    "import matplotlib as mpl\n",
    "from xbbg import blp\n",
    "import pdblp\n",
    "import workdays\n",
    "import datetime\n",
    "import time"
   ]
  },
  {
   "cell_type": "code",
   "execution_count": 2,
   "metadata": {},
   "outputs": [
    {
     "name": "stdout",
     "output_type": "stream",
     "text": [
      "Reference: EQ=83, SB=120, FX=11or85\n"
     ]
    },
    {
     "data": {
      "image/png": "[encoded data removed]",
      "text/plain": [
       "<Figure size 576x216 with 1 Axes>"
      ]
     },
     "metadata": {
      "needs_background": "light"
     },
     "output_type": "display_data"
    },
    {
     "data": {
      "text/html": [
       "<div>\n",
       "<style scoped>\n",
       "    .dataframe tbody tr th:only-of-type {\n",
       "        vertical-align: middle;\n",
       "    }\n",
       "\n",
       "    .dataframe tbody tr th {\n",
       "        vertical-align: top;\n",
       "    }\n",
       "\n",
       "    .dataframe thead th {\n",
       "        text-align: right;\n",
       "    }\n",
       "</style>\n",
       "<table border=\"1\" class=\"dataframe\">\n",
       "  <thead>\n",
       "    <tr style=\"text-align: right;\">\n",
       "      <th></th>\n",
       "      <th>0</th>\n",
       "      <th>1</th>\n",
       "      <th>2</th>\n",
       "      <th>3</th>\n",
       "      <th>4</th>\n",
       "      <th>5</th>\n",
       "      <th>6</th>\n",
       "      <th>7</th>\n",
       "      <th>8</th>\n",
       "      <th>9</th>\n",
       "      <th>...</th>\n",
       "      <th>20</th>\n",
       "      <th>21</th>\n",
       "      <th>22</th>\n",
       "      <th>23</th>\n",
       "      <th>24</th>\n",
       "      <th>25</th>\n",
       "      <th>26</th>\n",
       "      <th>27</th>\n",
       "      <th>28</th>\n",
       "      <th>29</th>\n",
       "    </tr>\n",
       "  </thead>\n",
       "  <tbody>\n",
       "    <tr>\n",
       "      <th>HalfPeriod</th>\n",
       "      <td>5.0</td>\n",
       "      <td>10.0</td>\n",
       "      <td>15.0</td>\n",
       "      <td>20.0</td>\n",
       "      <td>25.0</td>\n",
       "      <td>30.0</td>\n",
       "      <td>40.0</td>\n",
       "      <td>50.0</td>\n",
       "      <td>60.0</td>\n",
       "      <td>70.0</td>\n",
       "      <td>...</td>\n",
       "      <td>180.0</td>\n",
       "      <td>190.0</td>\n",
       "      <td>200.0</td>\n",
       "      <td>210.0</td>\n",
       "      <td>220.0</td>\n",
       "      <td>230.0</td>\n",
       "      <td>240.0</td>\n",
       "      <td>250.0</td>\n",
       "      <td>260.0</td>\n",
       "      <td>270.0</td>\n",
       "    </tr>\n",
       "    <tr>\n",
       "      <th>Ave</th>\n",
       "      <td>7.7</td>\n",
       "      <td>14.9</td>\n",
       "      <td>22.1</td>\n",
       "      <td>29.3</td>\n",
       "      <td>36.4</td>\n",
       "      <td>43.1</td>\n",
       "      <td>55.3</td>\n",
       "      <td>65.4</td>\n",
       "      <td>73.5</td>\n",
       "      <td>80.0</td>\n",
       "      <td>...</td>\n",
       "      <td>109.2</td>\n",
       "      <td>110.3</td>\n",
       "      <td>111.2</td>\n",
       "      <td>112.1</td>\n",
       "      <td>112.9</td>\n",
       "      <td>113.7</td>\n",
       "      <td>114.4</td>\n",
       "      <td>115.0</td>\n",
       "      <td>115.6</td>\n",
       "      <td>116.1</td>\n",
       "    </tr>\n",
       "    <tr>\n",
       "      <th>Diff</th>\n",
       "      <td>0.0</td>\n",
       "      <td>7.2</td>\n",
       "      <td>7.2</td>\n",
       "      <td>7.2</td>\n",
       "      <td>7.1</td>\n",
       "      <td>6.7</td>\n",
       "      <td>12.2</td>\n",
       "      <td>10.1</td>\n",
       "      <td>8.1</td>\n",
       "      <td>6.5</td>\n",
       "      <td>...</td>\n",
       "      <td>1.2</td>\n",
       "      <td>1.1</td>\n",
       "      <td>0.9</td>\n",
       "      <td>0.9</td>\n",
       "      <td>0.8</td>\n",
       "      <td>0.8</td>\n",
       "      <td>0.7</td>\n",
       "      <td>0.6</td>\n",
       "      <td>0.6</td>\n",
       "      <td>0.5</td>\n",
       "    </tr>\n",
       "  </tbody>\n",
       "</table>\n",
       "<p>3 rows × 30 columns</p>\n",
       "</div>"
      ],
      "text/plain": [
       "             0     1     2     3     4     5     6     7     8     9   ...  \\\n",
       "HalfPeriod  5.0  10.0  15.0  20.0  25.0  30.0  40.0  50.0  60.0  70.0  ...   \n",
       "Ave         7.7  14.9  22.1  29.3  36.4  43.1  55.3  65.4  73.5  80.0  ...   \n",
       "Diff        0.0   7.2   7.2   7.2   7.1   6.7  12.2  10.1   8.1   6.5  ...   \n",
       "\n",
       "               20     21     22     23     24     25     26     27     28  \\\n",
       "HalfPeriod  180.0  190.0  200.0  210.0  220.0  230.0  240.0  250.0  260.0   \n",
       "Ave         109.2  110.3  111.2  112.1  112.9  113.7  114.4  115.0  115.6   \n",
       "Diff          1.2    1.1    0.9    0.9    0.8    0.8    0.7    0.6    0.6   \n",
       "\n",
       "               29  \n",
       "HalfPeriod  270.0  \n",
       "Ave         116.1  \n",
       "Diff          0.5  \n",
       "\n",
       "[3 rows x 30 columns]"
      ]
     },
     "execution_count": 2,
     "metadata": {},
     "output_type": "execute_result"
    }
   ],
   "source": [
    "p = 260\n",
    "H = [10,20,40,60,120,260]\n",
    "H = [5,10,15,20,25] + list(range(30,280,10))\n",
    "\n",
    "tmp = pd.DataFrame(index=[\"HalfPeriod\",\"Ave\"])\n",
    "tmp = pd.DataFrame( np.zeros([1,len(H)]),  index=[\"HalfPeriod\"] )\n",
    "tmp.loc[\"HalfPeriod\",:] = H\n",
    "\n",
    "for j,h in enumerate(H):\n",
    "    v = 0.5 ** (np.arange(p,0,-1)/h)\n",
    "    v /= sum(v)    \n",
    "    tmp.loc[\"Ave\",j] = round( v @ list(range(p,0,-1)) ,1)\n",
    "\n",
    "tmp.loc[\"Diff\",:] = 0 \n",
    "for j in range(1,len(H)):\n",
    "    tmp.loc[\"Diff\",j] = tmp.loc[\"Ave\",j]  - tmp.loc[\"Ave\",j-1] \n",
    "\n",
    "fig, ax = plt.subplots(1, 1, squeeze=False,figsize=(8,3),tight_layout=True)\n",
    "ax[0,0].plot(tmp.iloc[0,:], tmp.iloc[1,:])\n",
    "ax[0,0].set_title(\"HalfPeriod vs AveDays\")\n",
    "\n",
    "print(\"Reference: EQ=83, SB=120, FX=11or85\")\n",
    "plt.show()\n",
    "tmp"
   ]
  },
  {
   "cell_type": "code",
   "execution_count": 3,
   "metadata": {},
   "outputs": [
    {
     "name": "stdout",
     "output_type": "stream",
     "text": [
      "Past 260 days, half-life 20 days\n"
     ]
    },
    {
     "data": {
      "image/png": "[encoded data removed]",
      "text/plain": [
       "<Figure size 720x216 with 2 Axes>"
      ]
     },
     "metadata": {
      "needs_background": "light"
     },
     "output_type": "display_data"
    }
   ],
   "source": [
    "def f(p,h):\n",
    "    v = 0.5 ** ( (np.arange(p,0,-1)-1)/h)\n",
    "#     v = 0.5 ** ( (np.arange(0,p)-1)/h)\n",
    "    v = v/sum(v)\n",
    "    \n",
    "    fig, ax = plt.subplots(1, 2, squeeze=False,figsize=(10,3),tight_layout=True)\n",
    "    ax[0,0].plot(range(1,len(v)+1), v)\n",
    "    ax[0,0].set_title(\"Contribution of each day (Total 100%)\")\n",
    "    ax[0,0].yaxis.set_major_formatter(mpl.ticker.PercentFormatter(1,1))\n",
    "    \n",
    "    ax[0,1].plot(range(1,len(v)+1), np.cumsum(v))\n",
    "    ax[0,1].set_title(\"Cumulative\")\n",
    "    ax[0,1].yaxis.set_major_formatter(mpl.ticker.PercentFormatter(1,0))\n",
    "    \n",
    "    return v\n",
    "\n",
    "p = 260\n",
    "h = 20\n",
    "v = f(p,h)\n",
    "\n",
    "print(\"Past \" + str(p) + \" days, half-life \" + str(h) + \" days\")\n",
    "plt.show()"
   ]
  },
  {
   "cell_type": "code",
   "execution_count": 4,
   "metadata": {},
   "outputs": [],
   "source": [
    "\n",
    "T = [\"ES1 Index\",\"TY1 Comdty\",\"JPY Curncy\"] #Ticker\n",
    "L = [\"ES\",\"TY\",\"JPY\"] #Symbol\n",
    "    \n",
    "# d_from = 19960628\n",
    "d_from = workdays.workday(datetime.datetime.today(), days=-1000).strftime(\"%Y%m%d\")\n",
    "d_to = workdays.workday(datetime.datetime.today(), days=-1).strftime(\"%Y%m%d\")\n",
    "\n",
    "df = blp.bdh(T, [\"px_last\"], d_from, d_to).reset_index()\n",
    "df.columns = [\"Date\"] + L\n",
    "\n",
    "for j in range(len(L)):    \n",
    "    df[L[j]+\"_RetD\"] = df[L[j]].pct_change()"
   ]
  },
  {
   "cell_type": "code",
   "execution_count": 5,
   "metadata": {},
   "outputs": [],
   "source": [
    "# r_from = df.query('Date == \"2007-03-30\"').index[0]\n",
    "r_from = 600\n",
    "\n",
    "\n",
    "def SD(p, h): \n",
    "    v = 0.5 ** ( (np.arange(p,0,-1)-1)/h)\n",
    "    v = v/sum(v)\n",
    "\n",
    "    for j in L:\n",
    "        tmp1 = j+\"_SD\"+str(h)\n",
    "        \n",
    "        tmp_SD = np.zeros(len(df))\n",
    "        tmp_DR = df[j+\"_RetD\"].values\n",
    "        \n",
    "        for i in range(r_from-270,len(df)):\n",
    "            tmp = tmp_DR[i-p+1:i+1]**2 @ v - (tmp_DR[i-p+1:i+1] @ v)**2\n",
    "            tmp_SD[i] = ( tmp * 260 )**0.5\n",
    "\n",
    "        df[tmp1] = tmp_SD\n",
    "        \n",
    "        \n",
    "def Cov(p,h): \n",
    "    v = 0.5 ** ( (np.arange(p,0,-1)-1)/h)\n",
    "    v = v/sum(v)\n",
    "\n",
    "    tmp_DR = df[[x+\"_RetD\" for x in L]].values\n",
    "    tmp_SD = df[[x+\"_SD\"+str(h) for x in L]].values\n",
    "            \n",
    "    for j in range(len(L)):\n",
    "        for k in range(j+1,len(L)):\n",
    "            tmp1 = L[j]+\"-\"+L[k]+\"_Cov\"+str(h)\n",
    "            tmp2 = L[j]+\"-\"+L[k]+\"_Cor\"+str(h)\n",
    "\n",
    "            tmp_Cov = np.zeros(len(df))\n",
    "            tmp_Cor = np.zeros(len(df))\n",
    "            \n",
    "            for i in range(r_from-1,len(df)):\n",
    "                tmp = (tmp_DR[i-p+1:i+1,j] * tmp_DR[i-p+1:i+1,k] ) @ v\n",
    "                tmp -= (tmp_DR[i-p+1:i+1,j]  @ v ) * (tmp_DR[i-p+1:i+1,k] @ v )\n",
    "                tmp *= 260\n",
    "                \n",
    "                tmp_Cov[i] = tmp\n",
    "                tmp_Cor[i] = tmp  / tmp_SD[i,j] / tmp_SD[i,k]\n",
    "\n",
    "            df[tmp1] = tmp_Cov\n",
    "            df[tmp2] = tmp_Cor\n",
    "            \n",
    "            \n",
    "def HR(p, h): \n",
    "    v = 0.5 ** ( (np.arange(p,0,-1)-1)/h)\n",
    "    v = v/sum(v)\n",
    "\n",
    "    for l in L:\n",
    "        tmp1 = l + \"_HR\"+str(h)\n",
    "        tmp_HR = np.zeros(len(df))\n",
    "        tmp_DR = df[l+\"_RetD\"].values\n",
    "        \n",
    "        for i in range(r_from-1,len(df)):\n",
    "#             tmp = list(tmp_DR[i-p+1:i+1]) @ v\n",
    "#             tmp_HR[i] = (1+tmp)**260 - 1\n",
    "            tmp = 1\n",
    "            for j in range(p):\n",
    "                tmp *= (1+tmp_DR[i-p+1+j]) ** v[j]\n",
    "            tmp_HR[i] = tmp**260 - 1\n",
    "            \n",
    "        df[tmp1] = tmp_HR"
   ]
  },
  {
   "cell_type": "code",
   "execution_count": 6,
   "metadata": {},
   "outputs": [
    {
     "name": "stdout",
     "output_type": "stream",
     "text": [
      "1/2 0.0 minutes\n",
      "2/2 0.0 minutes\n"
     ]
    }
   ],
   "source": [
    "t0 = time.time()\n",
    "H = [5,10]\n",
    "for h in range(len(H)):\n",
    "    SD(260, H[h])\n",
    "    print(str(h+1)+\"/\"+str(len(H)),str( round((time.time() - t0)/60,1)) + \" minutes\")"
   ]
  },
  {
   "cell_type": "code",
   "execution_count": 7,
   "metadata": {},
   "outputs": [
    {
     "name": "stdout",
     "output_type": "stream",
     "text": [
      "1/2 0.0 minutes\n",
      "2/2 0.0 minutes\n"
     ]
    }
   ],
   "source": [
    "t0 = time.time()\n",
    "H = [5,10]\n",
    "for h in range(len(H)):\n",
    "    Cov(260, H[h])\n",
    "    print(str(h+1)+\"/\"+str(len(H)),str( round((time.time() - t0)/60,1)) + \" minutes\")"
   ]
  },
  {
   "cell_type": "code",
   "execution_count": 8,
   "metadata": {},
   "outputs": [
    {
     "name": "stdout",
     "output_type": "stream",
     "text": [
      "1/2 0.0 minutes\n",
      "2/2 0.0 minutes\n"
     ]
    }
   ],
   "source": [
    "t0 = time.time()\n",
    "\n",
    "H = [5,10]\n",
    "for h in range(len(H)):\n",
    "    HR(260,H[h])       \n",
    "    print( str(h+1)+\"/\"+str(len(H)),str( round((time.time() - t0)/60,1)) + \" minutes\")"
   ]
  }
 ],
 "metadata": {
  "kernelspec": {
   "display_name": "Python 3",
   "language": "python",
   "name": "python3"
  },
  "language_info": {
   "codemirror_mode": {
    "name": "ipython",
    "version": 3
   },
   "file_extension": ".py",
   "mimetype": "text/x-python",
   "name": "python",
   "nbconvert_exporter": "python",
   "pygments_lexer": "ipython3",
   "version": "3.8.5"
  }
 },
 "nbformat": 4,
 "nbformat_minor": 4
}
