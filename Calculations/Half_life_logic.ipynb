{
 "cells": [
  {
   "cell_type": "markdown",
   "metadata": {},
   "source": [
    "## 指数平滑化法を用いた計算\n",
    "過去 $p$ 日間、半減期 $h$の場合を考えます。$p$日間分のデータに対する変数を$i$とし、$i=1$が最も期先(古い)、$i=p$が期近(新しい)のデータを表すとします。\n",
    "<br><br>\n",
    "\n",
    "### 1. 重みの計算\n",
    "各$i$に対する重みを下記のように計算します。\n",
    "\n",
    "$$\n",
    "v_i  =  0.5^{\\frac{i-1}{h}} \\quad (i=1, \\ldots , p)\n",
    "$$\n",
    "\n",
    "<br>\n",
    "上記で計算された $v_i$ を集めて、ベクトル$v$ を構成します。\n",
    "<br>\n",
    "<br>\n",
    "$$\n",
    "v =   [v_1,v_2,,v_p]\n",
    "$$\n",
    "\n",
    "<br>\n",
    "<br>\n",
    "重みの合計が1になるように正規化します。\n",
    "$$\n",
    "v = \\frac{v}{\\sum_{i=1}^{p} v_i}\n",
    "$$\n",
    "\n",
    "<br>"
   ]
  },
  {
   "cell_type": "code",
   "execution_count": 27,
   "metadata": {},
   "outputs": [
    {
     "name": "stdout",
     "output_type": "stream",
     "text": [
      "過去4日間、半減期2日の重み\n",
      "[0.138 0.195 0.276 0.391]\n"
     ]
    }
   ],
   "source": [
    "import numpy as np\n",
    "def f(p,h):\n",
    "    v = 0.5 ** ( (np.arange(p,0,-1)-1)/h)\n",
    "    v = v/sum(v)   \n",
    "    return v\n",
    "\n",
    "p = 4\n",
    "h = 2\n",
    "v = f(p,h)\n",
    "\n",
    "print(\"過去\" + str(p) + \"日間、半減期\" + str(h) + \"日の重み\")\n",
    "print(np.round(v,3))"
   ]
  },
  {
   "cell_type": "markdown",
   "metadata": {},
   "source": [
    "<br>\n",
    "\n",
    "### 2. 標準偏差(SD, Standard Deviation)の計算\n",
    "分散は下記から算出できます。\n",
    "\n",
    "$$\n",
    "V(X) = E(X^2) -  E(X)^2\n",
    "$$\n",
    "\n",
    "上記より、指数平滑化法で重みづけを行った分散(年率換算)は下記のようになります。\n",
    "\n",
    "$$\n",
    "V(X)  = \\sigma^2 = 260 \\times \\left( \\sum_{i=1}^{p} ( \\text{Ret}_i^2 \\times v_i ) - \\left( \\sum_{i=1}^{p} \\text{Ret}_i \\times v_i \\right)^2 \\right)\n",
    "$$\n",
    "\n",
    "従って、標準偏差は下記になります。\n",
    "\n",
    "$$\n",
    "\\text{SD} = \\sigma =  \\sqrt{260 \\times \\left( \\sum_{i=1}^{p} ( \\text{Ret}_i^2 \\times v_i ) - \\left( \\sum_{i=1}^{p} \\text{Ret}_i \\times v_i \\right)^2 \\right)}\n",
    "$$"
   ]
  },
  {
   "cell_type": "markdown",
   "metadata": {},
   "source": [
    "<br>\n",
    "\n",
    "### 3. 共分散(Cov, Covariance)と相関(Cor, Correlation)の計算\n",
    "前述の分散の式と同様に、2つの異なる資産$x$と$y$の指数平滑化法で重み付けされた共分散を次のように表現します。\n",
    "まず、単純な共分散の式は以下のように表されます。\n",
    "\n",
    "$$\n",
    "Cov(X,Y) = E(XY) - E(X) E(Y)\n",
    "$$\n",
    "\n",
    "指数平滑化法で重み付けを行った場合の共分散は、以下のように表されます。\n",
    "\n",
    "$$\n",
    "Cov(X,Y)  = 260 \\times \\left( \\sum_{i=1}^{p} ( x_i \\times y_i \\times v_i ) - \\left( \\sum_{i=1}^{p} x_i \\times v_i \\right) \\left( \\sum_{i=1}^{p} y_i \\times v_i \\right) \\right)\n",
    "$$\n",
    "\n",
    "\n",
    "指数平滑化法で重み付けを行った場合の相関係数は、以下のように表されます。<br>\n",
    "$$\n",
    "Cor(X,Y) = \\dfrac {Cov(X,Y)} {\\sigma_x \\sigma_y} \n",
    "$$\n",
    "\n"
   ]
  },
  {
   "cell_type": "markdown",
   "metadata": {},
   "source": [
    "<br>\n",
    "\n",
    "### 4. ヒストリカルリターンの計算\n",
    "\n",
    "\n",
    "\n",
    "指数平滑化法で重み付けを行った場合の相関係数は、以下のように表されます。<br><br>\n",
    "\n",
    "$$\n",
    "HR  = \\left( \\prod_{i=1}^{p} (1 + \\text{Ret}_i^2) \\right)^{260} - 1\n",
    "$$\n",
    "\n"
   ]
  }
 ],
 "metadata": {
  "kernelspec": {
   "display_name": "Python 3",
   "language": "python",
   "name": "python3"
  },
  "language_info": {
   "codemirror_mode": {
    "name": "ipython",
    "version": 3
   },
   "file_extension": ".py",
   "mimetype": "text/x-python",
   "name": "python",
   "nbconvert_exporter": "python",
   "pygments_lexer": "ipython3",
   "version": "3.8.5"
  }
 },
 "nbformat": 4,
 "nbformat_minor": 4
}
