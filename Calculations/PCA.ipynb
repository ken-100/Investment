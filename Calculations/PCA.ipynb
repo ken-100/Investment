{
 "cells": [
  {
   "cell_type": "code",
   "execution_count": 2,
   "metadata": {},
   "outputs": [],
   "source": [
    "import pdblp\n",
    "from xbbg import blp\n",
    "import workdays\n",
    "import datetime\n",
    "import numpy as np\n",
    "import pandas as pd\n",
    "\n",
    "T = [\"BPITTO01 Index\",\"SBWGNJYC Index\",\"SBUSJYC Index\",\"TPXDDVD Index\",\"TPXDREIT Index\",\"M0KO Index\",\"SREITJWJ Index\"]\n",
    "T += [\"USDJPYCR CMPN Curncy\",\"EURJPYCR CMPN Curncy\"]\n",
    "LS = [\"SBJ\",\"SBF\",\"SBU\",\"EQJ\",\"REJ\",\"EQF\",\"REF\",\"USD\",\"EUR\"]\n",
    "\n",
    "con = pdblp.BCon(timeout=5000)\n",
    "con.start()\n",
    "\n",
    "d_from = workdays.workday(datetime.datetime.today(), days=-260).strftime(\"%Y%m%d\")\n",
    "d_to = workdays.workday(datetime.datetime.today(), days=-1).strftime(\"%Y%m%d\")\n",
    "df = con.bdh(T, [\"px_last\"], d_from, d_to,elms = [(\"nonTradingDayFillMethod\",\"PREVIOUS_VALUE\"),(\"nonTradingDayFillOption\",\"NON_TRADING_WEEKDAYS\")]).reset_index()   #blp.bdhでもok\n",
    "\n",
    "df = df.loc[:,[\"date\"]+T]\n",
    "df.columns = [\"Date\"] + LS\n",
    "df.insert(loc = 1, column= \"ME\", value= 0) #MonthEnd"
   ]
  },
  {
   "cell_type": "code",
   "execution_count": null,
   "metadata": {},
   "outputs": [],
   "source": [
    "for i in range(2,len(df)):\n",
    "    if df.loc[i,\"Date\"].month != df.loc[i-1,\"Date\"].month:\n",
    "        if df.loc[i-1,\"Date\"].month ==3:\n",
    "            df.loc[i-1,\"ME\"] = 5 #Year\n",
    "        elif df.loc[i-1,\"Date\"].month ==9:\n",
    "            df.loc[i-1,\"ME\"] = 3 #Halfyear\n",
    "        elif df.loc[i-1,\"Date\"].month in [6,12]:\n",
    "            df.loc[i-1,\"ME\"] = 2 #Quater\n",
    "        else:\n",
    "            df.loc[i-1,\"ME\"] = 1\n",
    "df.loc[len(df)-1,\"ME\"] = 5\n",
    "\n",
    "df = df.loc[df[\"ME\"]>=1,:].reset_index(drop=True)\n",
    "\n",
    "for i in LS:\n",
    "    df.loc[i] = df[i].pct_change()\n",
    "\n",
    "df = df.iloc[1:,:].reset_index(drop=True)\n",
    "\n",
    "\n",
    "Cor = df[LS].corr()\n",
    "val, vec = np.linalg.eig(Cor)\n",
    "\n",
    "\n",
    "vec = pd.DataFrame(vec)\n",
    "for i in range(0,len(vec)):\n",
    "    vec.iloc[i,:] = vec.iloc[i,:].apply(\"{:.2f}\".format)\n",
    "\n",
    "\n",
    "val /=  sum(val)\n",
    "val = pd.DataFrame(val,columns=[\"val\"])\n",
    "for i in range(0,len(val)):\n",
    "    val.loc[i,\"accumulating\"] = sum(val.loc[0:i,\"val\"]) \n",
    "\n",
    "for i in range(len(val)):\n",
    "    val.iloc[i,:] = val.iloc[i,:].apply(\"{:.2%}\".format)\n",
    "    \n",
    "print(val)\n",
    "\n",
    "\n",
    "vec.index = LS\n",
    "for i in range(len(Cor)):\n",
    "    Cor.iloc[i,:] = Cor.iloc[i,:].apply(\"{:.2f}\".format)\n",
    "vec"
   ]
  }
 ],
 "metadata": {
  "kernelspec": {
   "display_name": "Python 3",
   "language": "python",
   "name": "python3"
  },
  "language_info": {
   "codemirror_mode": {
    "name": "ipython",
    "version": 3
   },
   "file_extension": ".py",
   "mimetype": "text/x-python",
   "name": "python",
   "nbconvert_exporter": "python",
   "pygments_lexer": "ipython3",
   "version": "3.8.5"
  }
 },
 "nbformat": 4,
 "nbformat_minor": 4
}
