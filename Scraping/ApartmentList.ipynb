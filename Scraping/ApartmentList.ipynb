{
 "cells": [
  {
   "cell_type": "code",
   "execution_count": 1,
   "id": "b23e5e10-ec6a-4203-9353-22d1a2a758d7",
   "metadata": {},
   "outputs": [
    {
     "name": "stdout",
     "output_type": "stream",
     "text": [
      "Popup clicked successfully\n",
      "Downloaded C:\\WebDrivers\\Apartment_List_Rent_Estimates_Summary_2024_05.csv\n",
      "Downloaded C:\\WebDrivers\\Apartment_List_Rent_Estimates_2024_05.csv\n",
      "Downloaded C:\\WebDrivers\\Apartment_List_Rent_Growth_MoM_2024_05.csv\n",
      "Downloaded C:\\WebDrivers\\Apartment_List_Rent_Growth_YoY_2024_05.csv\n",
      "Downloaded C:\\WebDrivers\\Apartment_List_Vacancy_Index_2024_05.csv\n"
     ]
    }
   ],
   "source": [
    "from selenium import webdriver\n",
    "from selenium.webdriver.chrome.service import Service\n",
    "from selenium.webdriver.support.ui import WebDriverWait\n",
    "from selenium.webdriver.support import expected_conditions as EC\n",
    "from selenium.webdriver.common.by import By\n",
    "import re\n",
    "import requests\n",
    "import os\n",
    "\n",
    "options = webdriver.ChromeOptions()\n",
    "options.add_argument('--headless') # The browser user interface (UI) is not displayed.\n",
    "options.add_argument('--disable-gpu') # Disable GPU acceleration in the browser\n",
    "options.add_argument('--no-sandbox') # Disable sandbox function\n",
    "\n",
    "service = Service('C:\\WebDrivers\\chromedriver.exe')\n",
    "driver = webdriver.Chrome(service=service, options=options)\n",
    "url = 'https://www.apartmentlist.com/research/category/data-rent-estimates'\n",
    "driver.get(url)\n",
    "\n",
    "# Handling pop-ups\n",
    "try:\n",
    "    # Wait for the pop-up to appear, find the “Yes, I'm a US Resident” button and click on it\n",
    "    popup_button_css = \"button.MuiButtonBase-root\"\n",
    "    popup_button = WebDriverWait(driver, 20).until(\n",
    "        EC.element_to_be_clickable((By.CSS_SELECTOR, popup_button_css))\n",
    "    )\n",
    "    popup_button.click()\n",
    "    print('Popup clicked successfully')\n",
    "except Exception as e:\n",
    "    driver.save_screenshot('error_screenshot.png') # Save screenshot if error occurs\n",
    "    print('No popup found or another error occurred:', e)\n",
    "\n",
    "page_source = driver.page_source\n",
    "urls = re.findall(r'\"url\":\"(//assets\\.ctfassets\\.net/[^\"]+)\"', page_source)\n",
    "full_urls = ['https:' + url for url in urls]\n",
    "\n",
    "download_dir = r'C:\\WebDrivers'\n",
    "os.makedirs(download_dir, exist_ok=True)\n",
    "\n",
    "for file_url in full_urls:\n",
    "    file_name = os.path.join(download_dir, file_url.split('/')[-1])\n",
    "    response = requests.get(file_url)\n",
    "    with open(file_name, 'wb') as file:\n",
    "        file.write(response.content)\n",
    "    print(f\"Downloaded {file_name}\")"
   ]
  }
 ],
 "metadata": {
  "kernelspec": {
   "display_name": "Python 3 (ipykernel)",
   "language": "python",
   "name": "python3"
  },
  "language_info": {
   "codemirror_mode": {
    "name": "ipython",
    "version": 3
   },
   "file_extension": ".py",
   "mimetype": "text/x-python",
   "name": "python",
   "nbconvert_exporter": "python",
   "pygments_lexer": "ipython3",
   "version": "3.11.8"
  }
 },
 "nbformat": 4,
 "nbformat_minor": 5
}
