{
 "cells": [
  {
   "cell_type": "code",
   "execution_count": 1,
   "id": "6c1107e7-a8c3-4551-98dc-2e09b8cfa5a9",
   "metadata": {
    "tags": []
   },
   "outputs": [],
   "source": [
    "import requests\n",
    "import pandas as pd\n",
    "import os\n",
    "import re\n",
    "from xbbg import blp\n",
    "\n",
    "# proxies = {\n",
    "# 'http':'http://  ',\n",
    "# 'https':'http://   '\n",
    "# }\n",
    "# response = requests.get(url, proxies = proxies, timeout=60, verify=False)\n",
    "\n",
    "path0 = r'C:\\Users\\OneDrive\\010_NISA'\n",
    "path0 = path0.replace('\\\\', '/')"
   ]
  },
  {
   "cell_type": "code",
   "execution_count": 5,
   "id": "8d4ed2fb-5ff6-4b2b-9e1f-7f7a58b44762",
   "metadata": {
    "tags": []
   },
   "outputs": [
    {
     "name": "stdout",
     "output_type": "stream",
     "text": [
      "Ticker: PFXF\n",
      "Net Weithg: 100.01%\n",
      "Number of Data: 107\n",
      " Stock: 105\n",
      " Cash: 1\n",
      " Cash Bal: 1\n",
      "\n",
      "Breakdown of Stock\n",
      " Pfd: 105\n"
     ]
    }
   ],
   "source": [
    "T = 'PFXF'\n",
    "url = 'https://www.vaneck.com/us/en/investments/preferred-securities-ex-financials-etf-pfxf/downloads/holdings/'\n",
    "response = requests.get(url, timeout=60)\n",
    "\n",
    "name = r'tmp.xlsx'\n",
    "path = path0 + '/' + T + '/'  + name\n",
    "\n",
    "with open(path,'wb') as f:\n",
    "    f.write(response.content)\n",
    "    \n",
    "df = pd.read_excel(path)\n",
    "i = df[df.iloc[:,0]=='Number'].index[0]\n",
    "os.remove(path)\n",
    "\n",
    "name = df.columns[0]\n",
    "name = name.split(' ')[-1]\n",
    "month, day, year = name.split('/')\n",
    "name = f\"{year}{month}{day}\"\n",
    "\n",
    "name = T + '_' + name + '.xlsx'\n",
    "\n",
    "path = path0 + '/' + T + '/'  + name\n",
    "with open(path,'wb') as f:\n",
    "    f.write(response.content)\n",
    "\n",
    "for i in range(10):\n",
    "    if df.iloc[i,0] == 'Number':\n",
    "        break\n",
    "\n",
    "df = pd.read_excel(path, skiprows=i+1)\n",
    "print('Ticker:',T)\n",
    "\n",
    "tmp = sum(df['% of Net Assets'].str.rstrip('%').astype('float') / 100)\n",
    "print('Net Weithg:',\"{:.2f}%\".format(tmp * 100))\n",
    "\n",
    "print('Number of Data:',len(df))\n",
    "tmp = df['Asset Class']\n",
    "L = tmp.tolist()\n",
    "L = {item: L.count(item) for item in set(L)}\n",
    "L = sorted(set(L), key=lambda x: (-L[x], x))\n",
    "\n",
    "for i in L:\n",
    "    tmp1 = len(df.loc[tmp.isin([i])])\n",
    "    print(' '+str(i)+':',tmp1)\n",
    "\n",
    "EQ = df.loc[df['Asset Class'].isin(['Stock']),'Identifier (FIGI)'].tolist() \n",
    "Pfd = [x + ' US Pfd' for x in EQ]\n",
    "Pfd = blp.bdp(Pfd,'market_sector_des')\n",
    "print('\\n'+'Breakdown of Stock')\n",
    "print(' Pfd:',len(Pfd.loc[Pfd['market_sector_des']=='Pfd',:]))"
   ]
  },
  {
   "cell_type": "code",
   "execution_count": 6,
   "id": "b86f678f-163b-45ed-89c1-8bf3f17494bc",
   "metadata": {
    "tags": []
   },
   "outputs": [
    {
     "name": "stdout",
     "output_type": "stream",
     "text": [
      "Ticker: SRLN\n",
      "Net Weithg: 100.00%\n",
      "Number of Data: 551\n",
      "\n",
      "Breakdown of Corp\n",
      " CORP HY NA: 267\n",
      " INST LOANS: 263\n",
      " nan: 10\n",
      " CORP IG NA: 5\n",
      " No_ID 6\n"
     ]
    }
   ],
   "source": [
    "T = 'SRLN'\n",
    "url = 'https://www.ssga.com/us/en/intermediary/etfs/library-content/products/fund-data/etfs/us/holdings-daily-us-en-srln.xlsx'\n",
    "response = requests.get(url, timeout=60)\n",
    "\n",
    "path = r'C:\\Users\\ky090\\OneDrive - The University of Texas at Austin\\102_TAM\\071_GETF\\010_NISA' +'/' + T\n",
    "path = path.replace('\\\\', '/')\n",
    "name = r'tmp.xlsx'\n",
    "path = path0 + '/' + T + '/'  + name\n",
    "\n",
    "with open(path,'wb') as f:\n",
    "    f.write(response.content)\n",
    "    \n",
    "df = pd.read_excel(path)\n",
    "i = df[df.iloc[:,0]=='Name'].index[0]\n",
    "os.remove(path)\n",
    "\n",
    "\n",
    "tmp = df.loc[df['Fund Name:']=='Holdings:','SPDR® Blackstone Senior Loan ETF'].values[0]\n",
    "pattern = r\"As of (\\d{2})-(\\w{3})-(\\d{4})\"\n",
    "month_map = {\n",
    "    'Jan': '01', 'Feb': '02', 'Mar': '03', 'Apr': '04', 'May': '05', 'Jun': '06',\n",
    "    'Jul': '07', 'Aug': '08', 'Sep': '09', 'Oct': '10', 'Nov': '11', 'Dec': '12'\n",
    "}\n",
    "def replace_with_date(match):\n",
    "    day, month_abbr, year = match.groups()\n",
    "    month = month_map.get(month_abbr.capitalize(), '01')\n",
    "    return f\"{year}{month}{day}\"\n",
    "name = re.sub(pattern, replace_with_date, tmp)\n",
    "name = T + '_' + name + '.xlsx'\n",
    "\n",
    "\n",
    "path = path0 + '/' + T + '/'  + name\n",
    "with open(path,'wb') as f:\n",
    "    f.write(response.content)\n",
    "\n",
    "\n",
    "df = pd.read_excel(path, skiprows=i+1)\n",
    "i = df.loc[df['Name']=='NET CASH',:].index[0]\n",
    "df = df.loc[:i-1,:]\n",
    "\n",
    "print('Ticker:',T)\n",
    "print('Net Weithg:',\"{:.2f}%\".format(sum(df['Weight'])))\n",
    "print('Number of Data:',len(df))\n",
    "\n",
    "ID = [x + ' Corp' for x in df['FIGI']]\n",
    "SB = blp.bdp(ID,['lqa_liquidity_sector','Name'])\n",
    "No_ID = [i for i in ID if i not in SB.index.tolist()]\n",
    "\n",
    "\n",
    "print('\\n'+'Breakdown of Corp')\n",
    "net = 0\n",
    "tmp = SB['lqa_liquidity_sector']\n",
    "L = tmp.tolist()\n",
    "L = {item: L.count(item) for item in set(L)}\n",
    "L = sorted(set(L), key=lambda x: (-L[x], x))\n",
    "\n",
    "for i in L:\n",
    "    tmp1 = len(SB.loc[tmp.isin([i])])\n",
    "    print(' '+str(i)+':',tmp1)\n",
    "\n",
    "print(' No_ID',len(No_ID))"
   ]
  }
 ],
 "metadata": {
  "kernelspec": {
   "display_name": "Python 3 (ipykernel)",
   "language": "python",
   "name": "python3"
  },
  "language_info": {
   "codemirror_mode": {
    "name": "ipython",
    "version": 3
   },
   "file_extension": ".py",
   "mimetype": "text/x-python",
   "name": "python",
   "nbconvert_exporter": "python",
   "pygments_lexer": "ipython3",
   "version": "3.11.4"
  }
 },
 "nbformat": 4,
 "nbformat_minor": 5
}
