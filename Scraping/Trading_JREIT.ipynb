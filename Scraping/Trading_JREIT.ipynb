{
 "cells": [
  {
   "cell_type": "code",
   "execution_count": 44,
   "id": "283de578-65a3-4f18-9779-26580b9761ad",
   "metadata": {},
   "outputs": [
    {
     "name": "stdout",
     "output_type": "stream",
     "text": [
      "https://www.jpx.co.jp/markets/statistics-equities/investor-type/skc8fn0000001zmy-att/reit_m2401.xls\n"
     ]
    },
    {
     "data": {
      "text/html": [
       "<div>\n",
       "<style scoped>\n",
       "    .dataframe tbody tr th:only-of-type {\n",
       "        vertical-align: middle;\n",
       "    }\n",
       "\n",
       "    .dataframe tbody tr th {\n",
       "        vertical-align: top;\n",
       "    }\n",
       "\n",
       "    .dataframe thead th {\n",
       "        text-align: right;\n",
       "    }\n",
       "</style>\n",
       "<table border=\"1\" class=\"dataframe\">\n",
       "  <thead>\n",
       "    <tr style=\"text-align: right;\">\n",
       "      <th></th>\n",
       "      <th>投資部門別　不動産投資信託証券売買状況　[金額]　全 51 社</th>\n",
       "      <th>Unnamed: 1</th>\n",
       "      <th>Unnamed: 4</th>\n",
       "    </tr>\n",
       "  </thead>\n",
       "  <tbody>\n",
       "    <tr>\n",
       "      <th>12</th>\n",
       "      <td>自己計</td>\n",
       "      <td>売り</td>\n",
       "      <td>181,435,632</td>\n",
       "    </tr>\n",
       "    <tr>\n",
       "      <th>13</th>\n",
       "      <td>Proprietary</td>\n",
       "      <td>買い</td>\n",
       "      <td>190,102,576</td>\n",
       "    </tr>\n",
       "  </tbody>\n",
       "</table>\n",
       "</div>"
      ],
      "text/plain": [
       "   投資部門別　不動産投資信託証券売買状況　[金額]　全 51 社 Unnamed: 1   Unnamed: 4\n",
       "12                             自己計         売り  181,435,632\n",
       "13                     Proprietary         買い  190,102,576"
      ]
     },
     "metadata": {},
     "output_type": "display_data"
    },
    {
     "name": "stdout",
     "output_type": "stream",
     "text": [
      "https://www.jpx.co.jp/markets/statistics-equities/investor-type/mklp770000001u4x-att/reit_m2402.xls\n"
     ]
    },
    {
     "data": {
      "text/html": [
       "<div>\n",
       "<style scoped>\n",
       "    .dataframe tbody tr th:only-of-type {\n",
       "        vertical-align: middle;\n",
       "    }\n",
       "\n",
       "    .dataframe tbody tr th {\n",
       "        vertical-align: top;\n",
       "    }\n",
       "\n",
       "    .dataframe thead th {\n",
       "        text-align: right;\n",
       "    }\n",
       "</style>\n",
       "<table border=\"1\" class=\"dataframe\">\n",
       "  <thead>\n",
       "    <tr style=\"text-align: right;\">\n",
       "      <th></th>\n",
       "      <th>投資部門別　不動産投資信託証券売買状況　[金額]　全 51 社</th>\n",
       "      <th>Unnamed: 1</th>\n",
       "      <th>Unnamed: 4</th>\n",
       "    </tr>\n",
       "  </thead>\n",
       "  <tbody>\n",
       "    <tr>\n",
       "      <th>12</th>\n",
       "      <td>自己計</td>\n",
       "      <td>売り</td>\n",
       "      <td>252,907,574</td>\n",
       "    </tr>\n",
       "    <tr>\n",
       "      <th>13</th>\n",
       "      <td>Proprietary</td>\n",
       "      <td>買い</td>\n",
       "      <td>298,851,144</td>\n",
       "    </tr>\n",
       "  </tbody>\n",
       "</table>\n",
       "</div>"
      ],
      "text/plain": [
       "   投資部門別　不動産投資信託証券売買状況　[金額]　全 51 社 Unnamed: 1   Unnamed: 4\n",
       "12                             自己計         売り  252,907,574\n",
       "13                     Proprietary         買い  298,851,144"
      ]
     },
     "metadata": {},
     "output_type": "display_data"
    },
    {
     "name": "stdout",
     "output_type": "stream",
     "text": [
      "https://www.jpx.co.jp/markets/statistics-equities/investor-type/mklp7700000042s2-att/reit_m2403.xls\n"
     ]
    },
    {
     "data": {
      "text/html": [
       "<div>\n",
       "<style scoped>\n",
       "    .dataframe tbody tr th:only-of-type {\n",
       "        vertical-align: middle;\n",
       "    }\n",
       "\n",
       "    .dataframe tbody tr th {\n",
       "        vertical-align: top;\n",
       "    }\n",
       "\n",
       "    .dataframe thead th {\n",
       "        text-align: right;\n",
       "    }\n",
       "</style>\n",
       "<table border=\"1\" class=\"dataframe\">\n",
       "  <thead>\n",
       "    <tr style=\"text-align: right;\">\n",
       "      <th></th>\n",
       "      <th>投資部門別　不動産投資信託証券売買状況　[金額]　全 51 社</th>\n",
       "      <th>Unnamed: 1</th>\n",
       "      <th>Unnamed: 4</th>\n",
       "    </tr>\n",
       "  </thead>\n",
       "  <tbody>\n",
       "    <tr>\n",
       "      <th>12</th>\n",
       "      <td>自己計</td>\n",
       "      <td>売り</td>\n",
       "      <td>317,496,335</td>\n",
       "    </tr>\n",
       "    <tr>\n",
       "      <th>13</th>\n",
       "      <td>Proprietary</td>\n",
       "      <td>買い</td>\n",
       "      <td>280,483,351</td>\n",
       "    </tr>\n",
       "  </tbody>\n",
       "</table>\n",
       "</div>"
      ],
      "text/plain": [
       "   投資部門別　不動産投資信託証券売買状況　[金額]　全 51 社 Unnamed: 1   Unnamed: 4\n",
       "12                             自己計         売り  317,496,335\n",
       "13                     Proprietary         買い  280,483,351"
      ]
     },
     "metadata": {},
     "output_type": "display_data"
    }
   ],
   "source": [
    "import requests\n",
    "from bs4 import BeautifulSoup\n",
    "import pandas as pd\n",
    "from io import BytesIO\n",
    "\n",
    "path = 'C:/Users/ky090/'\n",
    "url = 'https://www.jpx.co.jp/markets/statistics-equities/investor-type/03.html'\n",
    "# url =  'https://www.jpx.co.jp/markets/statistics-equities/investor-type/03-00-archives-01.html'\n",
    "\n",
    "\n",
    "response = requests.get(url)\n",
    "soup = BeautifulSoup(response.text, 'html.parser')\n",
    "links = soup.find_all('a', href=lambda href: href and href.endswith('.xls'))\n",
    "\n",
    "for link in links:\n",
    "    file_url = 'https://www.jpx.co.jp' + link['href']\n",
    "    print(file_url)\n",
    "\n",
    "    response = requests.get(file_url)\n",
    "    response.raise_for_status()  # This will raise an exception if there was an error downloading the file\n",
    "    \n",
    "    file_name = file_url.split('/')[-1]\n",
    "    excel_path = path + file_name\n",
    "\n",
    "    with open(excel_path, 'wb') as file:\n",
    "        file.write(response.content)\n",
    "\n",
    "    df = pd.read_excel(excel_path, sheet_name='Value')\n",
    "    display(df.iloc[12:14,[0,1,4]])"
   ]
  }
 ],
 "metadata": {
  "kernelspec": {
   "display_name": "Python 3 (ipykernel)",
   "language": "python",
   "name": "python3"
  },
  "language_info": {
   "codemirror_mode": {
    "name": "ipython",
    "version": 3
   },
   "file_extension": ".py",
   "mimetype": "text/x-python",
   "name": "python",
   "nbconvert_exporter": "python",
   "pygments_lexer": "ipython3",
   "version": "3.11.8"
  }
 },
 "nbformat": 4,
 "nbformat_minor": 5
}
