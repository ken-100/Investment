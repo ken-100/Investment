{
 "cells": [
  {
   "cell_type": "code",
   "execution_count": 35,
   "id": "324e0a08-addf-4034-8a51-8724a345d3fa",
   "metadata": {},
   "outputs": [
    {
     "name": "stdout",
     "output_type": "stream",
     "text": [
      "Collecting reportlab\n",
      "  Obtaining dependency information for reportlab from https://files.pythonhosted.org/packages/73/12/6444906db1bc65d3a8118afb089d53c7eeca0726164f51eb3599de1d0665/reportlab-4.2.5-py3-none-any.whl.metadata\n",
      "  Downloading reportlab-4.2.5-py3-none-any.whl.metadata (1.5 kB)\n",
      "Requirement already satisfied: pillow>=9.0.0 in c:\\users\\ky090\\anaconda3\\lib\\site-packages (from reportlab) (10.2.0)\n",
      "Requirement already satisfied: chardet in c:\\users\\ky090\\anaconda3\\lib\\site-packages (from reportlab) (4.0.0)\n",
      "Downloading reportlab-4.2.5-py3-none-any.whl (1.9 MB)\n",
      "   ---------------------------------------- 0.0/1.9 MB ? eta -:--:--\n",
      "    --------------------------------------- 0.0/1.9 MB 640.0 kB/s eta 0:00:03\n",
      "    --------------------------------------- 0.0/1.9 MB 393.8 kB/s eta 0:00:05\n",
      "   - -------------------------------------- 0.1/1.9 MB 573.4 kB/s eta 0:00:04\n",
      "   ---------------------------------------  1.9/1.9 MB 11.2 MB/s eta 0:00:01\n",
      "   ---------------------------------------- 1.9/1.9 MB 10.3 MB/s eta 0:00:00\n",
      "Installing collected packages: reportlab\n",
      "Successfully installed reportlab-4.2.5\n"
     ]
    }
   ],
   "source": [
    "!pip install reportlab"
   ]
  },
  {
   "cell_type": "code",
   "execution_count": 36,
   "id": "4f64f863-a87e-4b19-9a12-0bfe481f589f",
   "metadata": {},
   "outputs": [],
   "source": [
    "from reportlab.pdfgen import canvas\n",
    "\n",
    "pdf_file = canvas.Canvas(\"clcodingpdff.pdf\")\n",
    "\n",
    "pdf_file.drawString(72, 720, \"Hello, World!\")\n",
    "pdf_file.drawString(72, 700, \"Fre PDF Document \")\n",
    "pdf_file.drawString(72, 680, \"Like | Share \")\n",
    "pdf_file.drawString(72, 660, \"Subscribe \")\n",
    "pdf_file.drawString(72, 640, \"clcoding.com \")\n",
    "pdf_file.drawString(72, 620, \"thank you \")\n",
    "\n",
    "pdf_file.save()\n"
   ]
  },
  {
   "cell_type": "code",
   "execution_count": 39,
   "id": "cd52f685-9a71-4af1-8ce7-408c441bb67c",
   "metadata": {},
   "outputs": [],
   "source": [
    "from reportlab.pdfgen import canvas\n",
    "import pandas as pd\n",
    "\n",
    "def dataframe_to_pdf(df, pdf_path):\n",
    "    c = canvas.Canvas(pdf_path)\n",
    "    # Start from top of page\n",
    "    y = 800\n",
    "    \n",
    "    # Write headers\n",
    "    for i, col in enumerate(df.columns):\n",
    "        c.drawString(100 + i*100, y, str(col))\n",
    "    \n",
    "    y -= 20\n",
    "    \n",
    "    # Write data\n",
    "    for index, row in df.iterrows():\n",
    "        for i, value in enumerate(row):\n",
    "            c.drawString(100 + i*100, y, str(value))\n",
    "        y -= 20\n",
    "        \n",
    "        # Check if we need a new page\n",
    "        if y < 50:\n",
    "            c.showPage()\n",
    "            y = 800\n",
    "    \n",
    "    c.save()\n",
    "\n",
    "# Example usage\n",
    "df = pd.DataFrame({'A': [1, 2, 3], 'B': ['a', 'b', 'c'], 'D': ['a', 'b', 'c']})\n",
    "dataframe_to_pdf(df, 'output.pdf')\n"
   ]
  },
  {
   "cell_type": "code",
   "execution_count": 40,
   "id": "1a543c70-ca07-49e5-bd39-101f641aa5bc",
   "metadata": {},
   "outputs": [],
   "source": [
    "import pandas as pd\n",
    "from reportlab.lib.pagesizes import letter\n",
    "from reportlab.pdfgen import canvas\n",
    "from reportlab.platypus import SimpleDocTemplate, Table, TableStyle\n",
    "from reportlab.lib import colors\n",
    "\n",
    "# Sample DataFrame\n",
    "data = {\n",
    "    'Name': ['Alice', 'Bob', 'Charlie'],\n",
    "    'Age': [24, 27, 22],\n",
    "    'City': ['New York', 'Los Angeles', 'Chicago']\n",
    "}\n",
    "df = pd.DataFrame(data)\n",
    "\n",
    "# Convert DataFrame to list of lists\n",
    "data_list = [df.columns.to_list()] + df.values.tolist()\n",
    "\n",
    "# Create PDF\n",
    "pdf_file = SimpleDocTemplate(\"dataframe.pdf\", pagesize=letter)\n",
    "elements = []\n",
    "\n",
    "# Create a Table\n",
    "table = Table(data_list)\n",
    "\n",
    "# Add style to the Table\n",
    "style = TableStyle([\n",
    "    ('BACKGROUND', (0, 0), (-1, 0), colors.grey),\n",
    "    ('TEXTCOLOR', (0, 0), (-1, 0), colors.whitesmoke),\n",
    "    ('ALIGN', (0, 0), (-1, -1), 'CENTER'),\n",
    "    ('FONTNAME', (0, 0), (-1, 0), 'Helvetica-Bold'),\n",
    "    ('BOTTOMPADDING', (0, 0), (-1, 0), 12),\n",
    "    ('BACKGROUND', (0, 1), (-1, -1), colors.beige),\n",
    "    ('GRID', (0, 0), (-1, -1), 1, colors.black),\n",
    "])\n",
    "\n",
    "table.setStyle(style)\n",
    "\n",
    "# Add the Table to the elements\n",
    "elements.append(table)\n",
    "\n",
    "# Build the PDF\n",
    "pdf_file.build(elements)\n"
   ]
  }
 ],
 "metadata": {
  "kernelspec": {
   "display_name": "Python 3 (ipykernel)",
   "language": "python",
   "name": "python3"
  },
  "language_info": {
   "codemirror_mode": {
    "name": "ipython",
    "version": 3
   },
   "file_extension": ".py",
   "mimetype": "text/x-python",
   "name": "python",
   "nbconvert_exporter": "python",
   "pygments_lexer": "ipython3",
   "version": "3.11.8"
  }
 },
 "nbformat": 4,
 "nbformat_minor": 5
}
