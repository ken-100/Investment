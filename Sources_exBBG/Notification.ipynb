{
 "cells": [
  {
   "cell_type": "code",
   "execution_count": 1,
   "id": "63d0e4d2-2bca-449e-9c33-cbdaa3a8edb1",
   "metadata": {
    "tags": []
   },
   "outputs": [],
   "source": [
    "import wx\n",
    "from plyer import notification"
   ]
  },
  {
   "cell_type": "code",
   "execution_count": 3,
   "id": "f3fd8fc6-7316-43ff-90b6-9e6f3920ab6d",
   "metadata": {
    "tags": []
   },
   "outputs": [
    {
     "data": {
      "text/plain": [
       "0"
      ]
     },
     "execution_count": 3,
     "metadata": {},
     "output_type": "execute_result"
    }
   ],
   "source": [
    "class MyApp(wx.App):\n",
    "    def OnInit(self):\n",
    "        wx.MessageBox('Your message here', 'Test', wx.OK | wx.ICON_INFORMATION)\n",
    "        return True\n",
    "\n",
    "app = MyApp()\n",
    "app.MainLoop()\n"
   ]
  },
  {
   "cell_type": "code",
   "execution_count": 4,
   "id": "36ccb099-137b-4ff6-bc1a-ccb7ac38e44f",
   "metadata": {
    "tags": []
   },
   "outputs": [],
   "source": [
    "notification.notify(\n",
    "    title='Hello',\n",
    "    message='Hello, Take a Break',\n",
    "    app_name='Python Coding'\n",
    ")"
   ]
  }
 ],
 "metadata": {
  "kernelspec": {
   "display_name": "Python 3 (ipykernel)",
   "language": "python",
   "name": "python3"
  },
  "language_info": {
   "codemirror_mode": {
    "name": "ipython",
    "version": 3
   },
   "file_extension": ".py",
   "mimetype": "text/x-python",
   "name": "python",
   "nbconvert_exporter": "python",
   "pygments_lexer": "ipython3",
   "version": "3.11.4"
  }
 },
 "nbformat": 4,
 "nbformat_minor": 5
}
