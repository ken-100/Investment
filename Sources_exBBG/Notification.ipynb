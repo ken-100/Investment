{
 "cells": [
  {
   "cell_type": "code",
   "execution_count": 1,
   "id": "63d0e4d2-2bca-449e-9c33-cbdaa3a8edb1",
   "metadata": {
    "tags": []
   },
   "outputs": [],
   "source": [
    "import os\n",
    "os.environ['http_proxy'] = 'http://10.7.0.165:8080'\n",
    "os.environ['https_proxy'] = 'http://10.7.0.165:8080'"
   ]
  },
  {
   "cell_type": "code",
   "execution_count": 16,
   "id": "36ccb099-137b-4ff6-bc1a-ccb7ac38e44f",
   "metadata": {
    "tags": []
   },
   "outputs": [],
   "source": [
    "# First, install the plyer library\n",
    "# pip install plyer\n",
    "\n",
    "from plyer import notification\n",
    "\n",
    "# Display a notification\n",
    "notification.notify(\n",
    "    title='Hello',\n",
    "    message='Hello, Take a Break',\n",
    "    app_name='Python Coding'\n",
    ")"
   ]
  },
  {
   "cell_type": "code",
   "execution_count": 7,
   "id": "024ef6cf-64fe-47fd-9962-036bfaf49d7b",
   "metadata": {
    "tags": []
   },
   "outputs": [
    {
     "ename": "PyNoAppError",
     "evalue": "The wx.App object must be created first!",
     "output_type": "error",
     "traceback": [
      "\u001b[1;31m---------------------------------------------------------------------------\u001b[0m",
      "\u001b[1;31mPyNoAppError\u001b[0m                              Traceback (most recent call last)",
      "Cell \u001b[1;32mIn[7], line 4\u001b[0m\n\u001b[0;32m      1\u001b[0m \u001b[38;5;28;01mimport\u001b[39;00m \u001b[38;5;21;01mwx\u001b[39;00m\n\u001b[0;32m      3\u001b[0m app \u001b[38;5;241m=\u001b[39m wx\u001b[38;5;241m.\u001b[39mApp()\n\u001b[1;32m----> 4\u001b[0m wx\u001b[38;5;241m.\u001b[39mMessageBox(\u001b[38;5;124m'\u001b[39m\u001b[38;5;124mYour message here\u001b[39m\u001b[38;5;124m'\u001b[39m, \u001b[38;5;124m'\u001b[39m\u001b[38;5;124mTitle\u001b[39m\u001b[38;5;124m'\u001b[39m, wx\u001b[38;5;241m.\u001b[39mOK \u001b[38;5;241m|\u001b[39m wx\u001b[38;5;241m.\u001b[39mICON_INFORMATION)\n",
      "\u001b[1;31mPyNoAppError\u001b[0m: The wx.App object must be created first!"
     ]
    }
   ],
   "source": [
    "import wx\n",
    "\n",
    "app = wx.App()\n",
    "wx.MessageBox('Your message here', 'Title', wx.OK | wx.ICON_INFORMATION)\n"
   ]
  },
  {
   "cell_type": "code",
   "execution_count": 15,
   "id": "f3fd8fc6-7316-43ff-90b6-9e6f3920ab6d",
   "metadata": {
    "tags": []
   },
   "outputs": [
    {
     "data": {
      "text/plain": [
       "0"
      ]
     },
     "execution_count": 15,
     "metadata": {},
     "output_type": "execute_result"
    }
   ],
   "source": [
    "import wx\n",
    "\n",
    "class MyApp(wx.App):\n",
    "    def OnInit(self):\n",
    "        wx.MessageBox('Your message here', 'Test', wx.OK | wx.ICON_INFORMATION)\n",
    "        return True\n",
    "\n",
    "app = MyApp()\n",
    "app.MainLoop()\n"
   ]
  }
 ],
 "metadata": {
  "kernelspec": {
   "display_name": "Python 3 (ipykernel)",
   "language": "python",
   "name": "python3"
  },
  "language_info": {
   "codemirror_mode": {
    "name": "ipython",
    "version": 3
   },
   "file_extension": ".py",
   "mimetype": "text/x-python",
   "name": "python",
   "nbconvert_exporter": "python",
   "pygments_lexer": "ipython3",
   "version": "3.11.4"
  }
 },
 "nbformat": 4,
 "nbformat_minor": 5
}
