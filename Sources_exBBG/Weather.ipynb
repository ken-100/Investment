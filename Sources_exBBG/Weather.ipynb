{
 "cells": [
  {
   "cell_type": "code",
   "execution_count": 31,
   "id": "4f64f863-a87e-4b19-9a12-0bfe481f589f",
   "metadata": {},
   "outputs": [
    {
     "name": "stdin",
     "output_type": "stream",
     "text": [
      "Enter City Name:  New York\n"
     ]
    },
    {
     "name": "stdout",
     "output_type": "stream",
     "text": [
      "Weather in New York:\n",
      "Temperature: 8 °C\n",
      "Condition: Sunny.\n"
     ]
    }
   ],
   "source": [
    "import requests\n",
    "from bs4 import BeautifulSoup\n",
    "\n",
    "city = input(\"Enter City Name: \")\n",
    "city_formatted = city.lower().replace(\" \", \"-\")\n",
    "\n",
    "url = f\"https://www.timeanddate.com/weather/usa/{city_formatted}\"\n",
    "response = requests.get(url)\n",
    "\n",
    "soup = BeautifulSoup(response.text, 'html.parser')\n",
    "\n",
    "try:\n",
    "    temperature = soup.find(\"div\", class_=\"h2\").get_text(strip=True)\n",
    "    description = soup.find(\"div\", class_=\"h2\").find_next(\"p\").get_text(strip=True)\n",
    "\n",
    "    print(f\"Weather in {city}:\")\n",
    "    print(f\"Temperature: {temperature}\")\n",
    "    print(f\"Condition: {description}\")\n",
    "\n",
    "except AttributeError:\n",
    "    print(\"Please check the city name and try again.\")\n",
    "\n",
    "#clcoding.com\n"
   ]
  },
  {
   "cell_type": "code",
   "execution_count": 32,
   "id": "982287d4-ffff-40d8-9ab7-b6a9d352bab3",
   "metadata": {},
   "outputs": [
    {
     "name": "stdin",
     "output_type": "stream",
     "text": [
      "Enter City Name:  Tokyo\n",
      "Enter Country Name:  Japan\n"
     ]
    },
    {
     "name": "stdout",
     "output_type": "stream",
     "text": [
      "Weather in Tokyo, Japan:\n",
      "Temperature: 9 °C\n",
      "Condition: Cool.\n"
     ]
    }
   ],
   "source": [
    "city = input(\"Enter City Name: \")\n",
    "country = input(\"Enter Country Name: \")\n",
    "city_formatted = city.lower().replace(\" \", \"-\")\n",
    "country_formatted = country.lower().replace(\" \", \"-\")\n",
    "\n",
    "url = f\"https://www.timeanddate.com/weather/{country_formatted}/{city_formatted}\"\n",
    "response = requests.get(url)\n",
    "\n",
    "if response.status_code == 200:\n",
    "    soup = BeautifulSoup(response.text, 'html.parser')\n",
    "\n",
    "    try:\n",
    "        temperature = soup.find(\"div\", class_=\"h2\").get_text(strip=True)\n",
    "        description = soup.find(\"div\", class_=\"h2\").find_next(\"p\").get_text(strip=True)\n",
    "\n",
    "        print(f\"Weather in {city}, {country}:\")\n",
    "        print(f\"Temperature: {temperature}\")\n",
    "        print(f\"Condition: {description}\")\n",
    "\n",
    "    except AttributeError:\n",
    "        print(\"Could not retrieve weather information. Please check the city and country names and try again.\")\n",
    "else:\n",
    "    print(\"Failed to retrieve data. Please check the city and country names and try again.\")\n"
   ]
  }
 ],
 "metadata": {
  "kernelspec": {
   "display_name": "Python 3 (ipykernel)",
   "language": "python",
   "name": "python3"
  },
  "language_info": {
   "codemirror_mode": {
    "name": "ipython",
    "version": 3
   },
   "file_extension": ".py",
   "mimetype": "text/x-python",
   "name": "python",
   "nbconvert_exporter": "python",
   "pygments_lexer": "ipython3",
   "version": "3.11.8"
  }
 },
 "nbformat": 4,
 "nbformat_minor": 5
}
